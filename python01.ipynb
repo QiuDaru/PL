{
 "cells": [
  {
   "cell_type": "code",
   "execution_count": 15,
   "id": "6fb0de0d",
   "metadata": {},
   "outputs": [
    {
     "name": "stdout",
     "output_type": "stream",
     "text": [
      "被告罰 17982 元新台幣 原告罰 7706 元新台幣\n"
     ]
    }
   ],
   "source": [
    "總罰金=25688\n",
    "\n",
    "int(總罰金)\n",
    "被告=總罰金/10*7\n",
    "原告=總罰金/10*3\n",
    "print('被告罰',round(被告),'元新台幣','原告罰',round(原告),'元新台幣')"
   ]
  },
  {
   "cell_type": "code",
   "execution_count": null,
   "id": "868ad1e2",
   "metadata": {},
   "outputs": [],
   "source": []
  },
  {
   "cell_type": "code",
   "execution_count": null,
   "id": "42a420f5",
   "metadata": {},
   "outputs": [],
   "source": []
  },
  {
   "cell_type": "code",
   "execution_count": null,
   "id": "f9875625",
   "metadata": {},
   "outputs": [],
   "source": []
  }
 ],
 "metadata": {
  "kernelspec": {
   "display_name": "Python 3 (ipykernel)",
   "language": "python",
   "name": "python3"
  },
  "language_info": {
   "codemirror_mode": {
    "name": "ipython",
    "version": 3
   },
   "file_extension": ".py",
   "mimetype": "text/x-python",
   "name": "python",
   "nbconvert_exporter": "python",
   "pygments_lexer": "ipython3",
   "version": "3.9.7"
  }
 },
 "nbformat": 4,
 "nbformat_minor": 5
}
