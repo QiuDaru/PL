{
 "cells": [
  {
   "cell_type": "code",
   "execution_count": 10,
   "id": "7f7a938c",
   "metadata": {},
   "outputs": [
    {
     "name": "stdout",
     "output_type": "stream",
     "text": [
      "1 3\n",
      "13\n"
     ]
    }
   ],
   "source": [
    "a,b=input().split()\n",
    "int(a)\n",
    "int(b)\n",
    "print(a+b)"
   ]
  },
  {
   "cell_type": "code",
   "execution_count": null,
   "id": "f827249f",
   "metadata": {},
   "outputs": [],
   "source": [
    "print(sum(list(map(int,input().strip().split()))))"
   ]
  },
  {
   "cell_type": "code",
   "execution_count": 24,
   "id": "d08fb9f3",
   "metadata": {},
   "outputs": [
    {
     "name": "stdout",
     "output_type": "stream",
     "text": [
      "1 3\n",
      "大吉\n"
     ]
    }
   ],
   "source": [
    "M,D=input().split()\n",
    "M=int(M)\n",
    "D=int(D)\n",
    "S=(M*2+D)%3\n",
    "if S==0:\n",
    "    print(\"普通\")\n",
    "elif S==1:    \n",
    "    print('吉')\n",
    "else:    \n",
    "    print(\"大吉\")"
   ]
  },
  {
   "cell_type": "markdown",
   "id": "e51109a3",
   "metadata": {},
   "source": [
    "while True:\n",
    "    try:\n",
    "        x = input()\n",
    "        if not x:  # 如果輸入為空，即表示到達EOF，退出迴圈\n",
    "            break\n",
    "        x = int(x)\n",
    "        if x % 4 == 0 and x % 100 != 0:\n",
    "            print(\"閏年\")\n",
    "        elif x % 400 == 0:\n",
    "            print(\"閏年\")\n",
    "        else:\n",
    "            print(\"平年\")\n",
    "    except ValueError:\n",
    "        break\n"
   ]
  },
  {
   "cell_type": "code",
   "execution_count": null,
   "id": "1a45a290",
   "metadata": {
    "scrolled": true
   },
   "outputs": [
    {
     "name": "stdout",
     "output_type": "stream",
     "text": [
      "3213\n",
      "平年\n",
      "3124\n",
      "閏年\n"
     ]
    }
   ],
   "source": [
    "while True: \n",
    "  try:\n",
    "    x=int(input())\n",
    "  except:\n",
    "        break\n",
    "  if x%4==0 and x%100!=0:\n",
    "    print(\"閏年\")       \n",
    "  elif x%400==0:\n",
    "    print(\"閏年\")\n",
    "  else:\n",
    "    print(\"平年\")\n",
    "    "
   ]
  },
  {
   "cell_type": "code",
   "execution_count": 2,
   "id": "5300cc3b",
   "metadata": {},
   "outputs": [
    {
     "name": "stdout",
     "output_type": "stream",
     "text": [
      "321\n",
      "平年\n",
      "3214\n",
      "平年\n",
      "14523532\n",
      "閏年\n"
     ]
    }
   ],
   "source": []
  },
  {
   "cell_type": "code",
   "execution_count": null,
   "id": "e1ad5bca",
   "metadata": {},
   "outputs": [],
   "source": []
  }
 ],
 "metadata": {
  "kernelspec": {
   "display_name": "Python 3 (ipykernel)",
   "language": "python",
   "name": "python3"
  },
  "language_info": {
   "codemirror_mode": {
    "name": "ipython",
    "version": 3
   },
   "file_extension": ".py",
   "mimetype": "text/x-python",
   "name": "python",
   "nbconvert_exporter": "python",
   "pygments_lexer": "ipython3",
   "version": "3.9.7"
  }
 },
 "nbformat": 4,
 "nbformat_minor": 5
}
