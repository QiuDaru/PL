{
 "cells": [
  {
   "cell_type": "code",
   "execution_count": 121,
   "id": "9dcde901",
   "metadata": {},
   "outputs": [
    {
     "data": {
      "text/html": [
       "<div>\n",
       "<style scoped>\n",
       "    .dataframe tbody tr th:only-of-type {\n",
       "        vertical-align: middle;\n",
       "    }\n",
       "\n",
       "    .dataframe tbody tr th {\n",
       "        vertical-align: top;\n",
       "    }\n",
       "\n",
       "    .dataframe thead th {\n",
       "        text-align: right;\n",
       "    }\n",
       "</style>\n",
       "<table border=\"1\" class=\"dataframe\">\n",
       "  <thead>\n",
       "    <tr style=\"text-align: right;\">\n",
       "      <th></th>\n",
       "      <th>名字</th>\n",
       "    </tr>\n",
       "  </thead>\n",
       "  <tbody>\n",
       "    <tr>\n",
       "      <th>31</th>\n",
       "      <td>涂?豪</td>\n",
       "    </tr>\n",
       "    <tr>\n",
       "      <th>32</th>\n",
       "      <td>廖寄?</td>\n",
       "    </tr>\n",
       "    <tr>\n",
       "      <th>33</th>\n",
       "      <td>許芝語</td>\n",
       "    </tr>\n",
       "    <tr>\n",
       "      <th>34</th>\n",
       "      <td>許恩齊</td>\n",
       "    </tr>\n",
       "    <tr>\n",
       "      <th>35</th>\n",
       "      <td>黃品縈</td>\n",
       "    </tr>\n",
       "  </tbody>\n",
       "</table>\n",
       "</div>"
      ],
      "text/plain": [
       "     名字\n",
       "31  涂?豪\n",
       "32  廖寄?\n",
       "33  許芝語\n",
       "34  許恩齊\n",
       "35  黃品縈"
      ]
     },
     "execution_count": 121,
     "metadata": {},
     "output_type": "execute_result"
    }
   ],
   "source": [
    "import pandas as pd\n",
    "cmp = pd.read_csv('cb.csv', encoding = \"Big5\")\n",
    "g = pd.read_csv('G2.csv', encoding = \"Big5\")\n",
    "cmp.tail()\n"
   ]
  },
  {
   "cell_type": "code",
   "execution_count": 122,
   "id": "dfd33621",
   "metadata": {},
   "outputs": [
    {
     "name": "stdout",
     "output_type": "stream",
     "text": [
      "{'王繹福', '涂家瑜', '陳奕紳', '許芝語', '王櫂星', '李承穎', '張妘恩', '方彥期', '游文碩', '林芷語', '高子淇', '張佟佑', '張榆京', '趙阡辰', '廖寄?', '周以秉', '蕭祖丞', '陳睿康', '許恩齊', '戴永哲', '高子堯', '黃品縈', '李承翰', '陳妍彤'}\n"
     ]
    }
   ],
   "source": [
    "cmpname = list(cmp['名字'])#學電腦\n",
    "gname = list(g ['人名'])\n",
    "c=set(cmpname).difference(set(gname))#指電腦的-電腦跟打鼓的差異\n",
    "print(c)\n"
   ]
  },
  {
   "cell_type": "code",
   "execution_count": 123,
   "id": "e5ac9a68",
   "metadata": {},
   "outputs": [
    {
     "name": "stdout",
     "output_type": "stream",
     "text": [
      "{'李承翰 ', '廖寄? ', '張博丞 ', '黃宥霖', '方彥期 ', '陳宥丞 ', '林言碩 ', '蕭祖丞 ', '廖寄軸 ', '吳昱鋐 ', '涂家瑜 ', '方韋茜 ', '卞禹翔 ', '王翊銘 ', '李承穎 ', '王繹福 ', '卞詠玲 ', '陳奕紳 '}\n"
     ]
    }
   ],
   "source": [
    "a=set(gname).difference(set(cmpname))#指打鼓的-打鼓跟電腦的差異\n",
    "print(a)"
   ]
  },
  {
   "cell_type": "code",
   "execution_count": 124,
   "id": "168f0f3b",
   "metadata": {},
   "outputs": [
    {
     "name": "stdout",
     "output_type": "stream",
     "text": [
      "{'張博丞 ', '黃宥霖', '方彥期 ', '涂?豪', '卞詠玲 ', '陳昱升', '蕭祖丞 ', '廖寄軸 ', '吳昱鋐 ', '方韋茜 ', '陳宥丞 ', '林言碩 ', '涂家瑜 ', '李承穎 ', '王繹福 ', '陳奕紳 ', '廖寄? ', '卞禹翔 ', '王翊銘 ', '林鴻銘', '李承翰 '}\n",
      "{'王繹福', '涂家瑜', '陳奕紳', '許芝語', '涂?豪', '王櫂星', '李承穎', '陳昱升', '張妘恩', '方彥期', '游文碩', '林芷語', '高子淇', '張佟佑', '張榆京', '趙阡辰', '廖寄?', '周以秉', '蕭祖丞', '陳睿康', '許恩齊', '戴永哲', '林鴻銘', '高子堯', '黃品縈', '李承翰', '陳妍彤'}\n"
     ]
    }
   ],
   "source": [
    "print(set(gname))\n",
    "print(set(cmpname)) #聯集"
   ]
  },
  {
   "cell_type": "code",
   "execution_count": 125,
   "id": "01b8d46c",
   "metadata": {},
   "outputs": [
    {
     "name": "stdout",
     "output_type": "stream",
     "text": [
      "{'王繹福', '涂家瑜', '陳奕紳', '許芝語', '王櫂星', '李承穎', '張妘恩', '方彥期', '游文碩', '林芷語', '高子淇', '張佟佑', '張榆京', '趙阡辰', '廖寄?', '周以秉', '蕭祖丞', '陳睿康', '許恩齊', '戴永哲', '高子堯', '黃品縈', '李承翰', '陳妍彤'}\n",
      "{'李承翰 ', '廖寄? ', '張博丞 ', '黃宥霖', '方彥期 ', '陳宥丞 ', '林言碩 ', '蕭祖丞 ', '廖寄軸 ', '吳昱鋐 ', '涂家瑜 ', '方韋茜 ', '卞禹翔 ', '王翊銘 ', '李承穎 ', '王繹福 ', '卞詠玲 ', '陳奕紳 '}\n"
     ]
    }
   ],
   "source": [
    "print(c) #相對差級\n",
    "print(a)"
   ]
  },
  {
   "cell_type": "code",
   "execution_count": 126,
   "id": "6e22344b",
   "metadata": {},
   "outputs": [
    {
     "name": "stdout",
     "output_type": "stream",
     "text": [
      "{'名字'}\n"
     ]
    }
   ],
   "source": [
    "cone=set(cmp).difference(set(c))\n",
    "print(cone)"
   ]
  },
  {
   "cell_type": "code",
   "execution_count": 127,
   "id": "05c81e0e",
   "metadata": {},
   "outputs": [
    {
     "name": "stdout",
     "output_type": "stream",
     "text": [
      "{'人名'}\n"
     ]
    }
   ],
   "source": [
    "gone=set(g).difference(set(c))\n",
    "print(gone)"
   ]
  },
  {
   "cell_type": "code",
   "execution_count": 128,
   "id": "e00f3dc0",
   "metadata": {},
   "outputs": [
    {
     "name": "stdout",
     "output_type": "stream",
     "text": [
      "{'人名'}\n"
     ]
    }
   ],
   "source": [
    "j=set(gone).difference(set(cone))\n",
    "print(j)"
   ]
  },
  {
   "cell_type": "code",
   "execution_count": null,
   "id": "218fe69e",
   "metadata": {},
   "outputs": [],
   "source": []
  },
  {
   "cell_type": "code",
   "execution_count": null,
   "id": "968d73f4",
   "metadata": {},
   "outputs": [],
   "source": []
  },
  {
   "cell_type": "code",
   "execution_count": null,
   "id": "d38d4ac0",
   "metadata": {},
   "outputs": [],
   "source": []
  },
  {
   "cell_type": "code",
   "execution_count": null,
   "id": "963f10e7",
   "metadata": {},
   "outputs": [],
   "source": []
  }
 ],
 "metadata": {
  "kernelspec": {
   "display_name": "Python 3 (ipykernel)",
   "language": "python",
   "name": "python3"
  },
  "language_info": {
   "codemirror_mode": {
    "name": "ipython",
    "version": 3
   },
   "file_extension": ".py",
   "mimetype": "text/x-python",
   "name": "python",
   "nbconvert_exporter": "python",
   "pygments_lexer": "ipython3",
   "version": "3.9.7"
  }
 },
 "nbformat": 4,
 "nbformat_minor": 5
}
