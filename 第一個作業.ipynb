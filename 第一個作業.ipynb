{
 "cells": [
  {
   "cell_type": "code",
   "execution_count": 2,
   "id": "9dcde901",
   "metadata": {},
   "outputs": [
    {
     "data": {
      "text/html": [
       "<div>\n",
       "<style scoped>\n",
       "    .dataframe tbody tr th:only-of-type {\n",
       "        vertical-align: middle;\n",
       "    }\n",
       "\n",
       "    .dataframe tbody tr th {\n",
       "        vertical-align: top;\n",
       "    }\n",
       "\n",
       "    .dataframe thead th {\n",
       "        text-align: right;\n",
       "    }\n",
       "</style>\n",
       "<table border=\"1\" class=\"dataframe\">\n",
       "  <thead>\n",
       "    <tr style=\"text-align: right;\">\n",
       "      <th></th>\n",
       "      <th>名字</th>\n",
       "    </tr>\n",
       "  </thead>\n",
       "  <tbody>\n",
       "    <tr>\n",
       "      <th>31</th>\n",
       "      <td>涂0豪</td>\n",
       "    </tr>\n",
       "    <tr>\n",
       "      <th>32</th>\n",
       "      <td>廖寄0</td>\n",
       "    </tr>\n",
       "    <tr>\n",
       "      <th>33</th>\n",
       "      <td>許芝語</td>\n",
       "    </tr>\n",
       "    <tr>\n",
       "      <th>34</th>\n",
       "      <td>許恩齊</td>\n",
       "    </tr>\n",
       "    <tr>\n",
       "      <th>35</th>\n",
       "      <td>黃品縈</td>\n",
       "    </tr>\n",
       "  </tbody>\n",
       "</table>\n",
       "</div>"
      ],
      "text/plain": [
       "     名字\n",
       "31  涂0豪\n",
       "32  廖寄0\n",
       "33  許芝語\n",
       "34  許恩齊\n",
       "35  黃品縈"
      ]
     },
     "execution_count": 2,
     "metadata": {},
     "output_type": "execute_result"
    }
   ],
   "source": [
    "import pandas as pd\n",
    "cmp = pd.read_csv('cb.csv', encoding = \"Big5\")\n",
    "g = pd.read_csv('G2.csv', encoding = \"Big5\")\n",
    "cmp.tail()\n"
   ]
  },
  {
   "cell_type": "code",
   "execution_count": 5,
   "id": "dfd33621",
   "metadata": {},
   "outputs": [
    {
     "name": "stdout",
     "output_type": "stream",
     "text": [
      "{'張妘恩', '方彥期', '周以秉', '高子淇', '林芷語', '涂家瑜', '陳奕紳', '高子堯', '張佟佑', '廖寄0', '許恩齊', '張榆京', '許芝語', '游文碩', '戴永哲', '李承翰', '陳睿康', '趙阡辰', '陳妍彤', '李承穎', '黃品縈', '王繹福', '蕭祖丞', '涂0豪', '王櫂星'}\n"
     ]
    }
   ],
   "source": [
    "cmpname = list(cmp['名字'])#學電腦\n",
    "gname = list(g ['人名'])\n",
    "c=set(cmpname).difference(set(gname))#指電腦的-電腦跟打鼓的差異\n",
    "print(c)\n"
   ]
  },
  {
   "cell_type": "code",
   "execution_count": 6,
   "id": "e5ac9a68",
   "metadata": {},
   "outputs": [
    {
     "name": "stdout",
     "output_type": "stream",
     "text": [
      "{'蕭祖丞 ', '王翊銘 ', '王繹福 ', '李承穎 ', '廖寄? ', '涂?豪', '方韋茜 ', '卞禹翔 ', '卞詠玲 ', '方彥期 ', '吳昱鋐 ', '陳宥丞 ', '涂家瑜 ', '黃宥霖', '廖寄軸 ', '林言碩 ', '李承翰 ', '張博丞 ', '陳奕紳 '}\n"
     ]
    }
   ],
   "source": [
    "a=set(gname).difference(set(cmpname))#指打鼓的-打鼓跟電腦的差異\n",
    "print(a)"
   ]
  },
  {
   "cell_type": "code",
   "execution_count": 7,
   "id": "168f0f3b",
   "metadata": {},
   "outputs": [
    {
     "name": "stdout",
     "output_type": "stream",
     "text": [
      "{'林鴻銘', '蕭祖丞 ', '王翊銘 ', '王繹福 ', '李承穎 ', '廖寄? ', '涂?豪', '方韋茜 ', '卞禹翔 ', '卞詠玲 ', '方彥期 ', '吳昱鋐 ', '陳宥丞 ', '涂家瑜 ', '黃宥霖', '廖寄軸 ', '林言碩 ', '陳昱升', '李承翰 ', '張博丞 ', '陳奕紳 '}\n",
      "{'張妘恩', '林鴻銘', '方彥期', '王櫂星', '周以秉', '高子淇', '林芷語', '涂家瑜', '陳奕紳', '高子堯', '張佟佑', '廖寄0', '張榆京', '許芝語', '游文碩', '戴永哲', '李承翰', '陳睿康', '趙阡辰', '陳妍彤', '李承穎', '黃品縈', '陳昱升', '王繹福', '蕭祖丞', '涂0豪', '許恩齊'}\n"
     ]
    }
   ],
   "source": [
    "print(set(gname))\n",
    "print(set(cmpname)) #聯集"
   ]
  },
  {
   "cell_type": "code",
   "execution_count": 8,
   "id": "01b8d46c",
   "metadata": {},
   "outputs": [
    {
     "name": "stdout",
     "output_type": "stream",
     "text": [
      "{'張妘恩', '方彥期', '周以秉', '高子淇', '林芷語', '涂家瑜', '陳奕紳', '高子堯', '張佟佑', '廖寄0', '許恩齊', '張榆京', '許芝語', '游文碩', '戴永哲', '李承翰', '陳睿康', '趙阡辰', '陳妍彤', '李承穎', '黃品縈', '王繹福', '蕭祖丞', '涂0豪', '王櫂星'}\n",
      "{'蕭祖丞 ', '王翊銘 ', '王繹福 ', '李承穎 ', '廖寄? ', '涂?豪', '方韋茜 ', '卞禹翔 ', '卞詠玲 ', '方彥期 ', '吳昱鋐 ', '陳宥丞 ', '涂家瑜 ', '黃宥霖', '廖寄軸 ', '林言碩 ', '李承翰 ', '張博丞 ', '陳奕紳 '}\n"
     ]
    }
   ],
   "source": [
    "print(c) #相對差級\n",
    "print(a)"
   ]
  },
  {
   "cell_type": "code",
   "execution_count": 9,
   "id": "6e22344b",
   "metadata": {},
   "outputs": [
    {
     "name": "stdout",
     "output_type": "stream",
     "text": [
      "{'名字'}\n"
     ]
    }
   ],
   "source": [
    "cone=set(cmp).difference(set(c))\n",
    "print(cone)"
   ]
  },
  {
   "cell_type": "code",
   "execution_count": 10,
   "id": "05c81e0e",
   "metadata": {},
   "outputs": [
    {
     "name": "stdout",
     "output_type": "stream",
     "text": [
      "{'人名'}\n"
     ]
    }
   ],
   "source": [
    "gone=set(g).difference(set(c))\n",
    "print(gone)"
   ]
  },
  {
   "cell_type": "code",
   "execution_count": 11,
   "id": "e00f3dc0",
   "metadata": {},
   "outputs": [
    {
     "name": "stdout",
     "output_type": "stream",
     "text": [
      "{'人名'}\n"
     ]
    }
   ],
   "source": [
    "j=set(gone).difference(set(cone))\n",
    "print(j)"
   ]
  },
  {
   "cell_type": "code",
   "execution_count": null,
   "id": "218fe69e",
   "metadata": {},
   "outputs": [],
   "source": []
  },
  {
   "cell_type": "code",
   "execution_count": null,
   "id": "968d73f4",
   "metadata": {},
   "outputs": [],
   "source": []
  },
  {
   "cell_type": "code",
   "execution_count": null,
   "id": "d38d4ac0",
   "metadata": {},
   "outputs": [],
   "source": []
  },
  {
   "cell_type": "code",
   "execution_count": null,
   "id": "963f10e7",
   "metadata": {},
   "outputs": [],
   "source": []
  }
 ],
 "metadata": {
  "kernelspec": {
   "display_name": "Python 3 (ipykernel)",
   "language": "python",
   "name": "python3"
  },
  "language_info": {
   "codemirror_mode": {
    "name": "ipython",
    "version": 3
   },
   "file_extension": ".py",
   "mimetype": "text/x-python",
   "name": "python",
   "nbconvert_exporter": "python",
   "pygments_lexer": "ipython3",
   "version": "3.9.7"
  }
 },
 "nbformat": 4,
 "nbformat_minor": 5
}
