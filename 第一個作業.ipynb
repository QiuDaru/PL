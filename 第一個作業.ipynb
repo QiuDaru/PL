{
 "cells": [
  {
   "cell_type": "code",
   "execution_count": 11,
   "id": "9dcde901",
   "metadata": {},
   "outputs": [
    {
     "data": {
      "text/html": [
       "<div>\n",
       "<style scoped>\n",
       "    .dataframe tbody tr th:only-of-type {\n",
       "        vertical-align: middle;\n",
       "    }\n",
       "\n",
       "    .dataframe tbody tr th {\n",
       "        vertical-align: top;\n",
       "    }\n",
       "\n",
       "    .dataframe thead th {\n",
       "        text-align: right;\n",
       "    }\n",
       "</style>\n",
       "<table border=\"1\" class=\"dataframe\">\n",
       "  <thead>\n",
       "    <tr style=\"text-align: right;\">\n",
       "      <th></th>\n",
       "      <th>名字</th>\n",
       "    </tr>\n",
       "  </thead>\n",
       "  <tbody>\n",
       "    <tr>\n",
       "      <th>30</th>\n",
       "      <td>涂家瑜</td>\n",
       "    </tr>\n",
       "    <tr>\n",
       "      <th>31</th>\n",
       "      <td>涂0豪</td>\n",
       "    </tr>\n",
       "    <tr>\n",
       "      <th>32</th>\n",
       "      <td>許芝語</td>\n",
       "    </tr>\n",
       "    <tr>\n",
       "      <th>33</th>\n",
       "      <td>許恩齊</td>\n",
       "    </tr>\n",
       "    <tr>\n",
       "      <th>34</th>\n",
       "      <td>黃品縈</td>\n",
       "    </tr>\n",
       "  </tbody>\n",
       "</table>\n",
       "</div>"
      ],
      "text/plain": [
       "     名字\n",
       "30  涂家瑜\n",
       "31  涂0豪\n",
       "32  許芝語\n",
       "33  許恩齊\n",
       "34  黃品縈"
      ]
     },
     "execution_count": 11,
     "metadata": {},
     "output_type": "execute_result"
    }
   ],
   "source": [
    "import pandas as pd #導入Pandas,稱他為pd\n",
    "cmp = pd.read_csv('cb.csv', encoding = \"Big5\")#cmp=抓一個叫cd.csv的檔案,文字是Big5\n",
    "g = pd.read_csv('G2.csv', encoding = \"Big5\")#g=抓一個叫g2.csv的檔案,文字是Big5\n",
    "cmp.tail()#顯示cmp\n"
   ]
  },
  {
   "cell_type": "code",
   "execution_count": 15,
   "id": "dfd33621",
   "metadata": {},
   "outputs": [
    {
     "name": "stdout",
     "output_type": "stream",
     "text": [
      "{'張佟佑', '李承穎', '許恩齊', '廖寄0', '林芷語', '周以秉', '高子淇', '蕭祖丞', '戴永哲', '王繹福', '許芝語', '黃品縈', '陳睿康', '高子堯', '方彥期', '趙阡辰', '王櫂星', '涂0豪', '游文碩', '李承翰', '陳奕紳', '張妘恩', '張榆京', '涂家瑜', '陳妍彤'}\n"
     ]
    }
   ],
   "source": [
    "cmpname = list(cmp['名字'])#學電腦\n",
    "gname = list(g['人名'])#gname=list g 人名那一列\n",
    "c=set(cmpname).difference(set(gname))#指電腦的-電腦跟打鼓的差異\n",
    "print(c)\n"
   ]
  },
  {
   "cell_type": "code",
   "execution_count": 4,
   "id": "e5ac9a68",
   "metadata": {},
   "outputs": [
    {
     "name": "stdout",
     "output_type": "stream",
     "text": [
      "{'林言碩 ', '王翊銘 ', '卞詠玲 ', '方韋茜 ', '卞禹翔 ', '張博丞 ', '王繹福 ', '廖寄? ', '李承翰 ', '廖寄軸 ', '黃宥霖', '陳奕紳 ', '吳昱鋐 ', '方彥期 ', '蕭祖丞 ', '李承穎 ', '涂?豪', '涂家瑜 ', '陳宥丞 '}\n"
     ]
    }
   ],
   "source": [
    "a=set(gname).difference(set(cmpname))#指打鼓的-打鼓跟電腦的差異\n",
    "print(a)"
   ]
  },
  {
   "cell_type": "code",
   "execution_count": 5,
   "id": "168f0f3b",
   "metadata": {},
   "outputs": [
    {
     "name": "stdout",
     "output_type": "stream",
     "text": [
      "{'林言碩 ', '陳昱升', '王翊銘 ', '卞詠玲 ', '方韋茜 ', '卞禹翔 ', '張博丞 ', '王繹福 ', '廖寄? ', '李承翰 ', '廖寄軸 ', '黃宥霖', '林鴻銘', '陳奕紳 ', '吳昱鋐 ', '方彥期 ', '蕭祖丞 ', '李承穎 ', '涂?豪', '涂家瑜 ', '陳宥丞 '}\n",
      "{'陳昱升', '張佟佑', '李承穎', '許恩齊', '廖寄0', '林芷語', '周以秉', '高子淇', '蕭祖丞', '戴永哲', '王繹福', '許芝語', '黃品縈', '陳睿康', '高子堯', '方彥期', '趙阡辰', '林鴻銘', '王櫂星', '涂0豪', '游文碩', '李承翰', '陳奕紳', '張妘恩', '張榆京', '涂家瑜', '陳妍彤'}\n"
     ]
    }
   ],
   "source": [
    "print(set(gname))\n",
    "print(set(cmpname)) #聯集"
   ]
  },
  {
   "cell_type": "code",
   "execution_count": 6,
   "id": "01b8d46c",
   "metadata": {},
   "outputs": [
    {
     "name": "stdout",
     "output_type": "stream",
     "text": [
      "{'張佟佑', '李承穎', '許恩齊', '廖寄0', '林芷語', '周以秉', '高子淇', '蕭祖丞', '戴永哲', '王繹福', '許芝語', '黃品縈', '陳睿康', '高子堯', '方彥期', '趙阡辰', '王櫂星', '涂0豪', '游文碩', '李承翰', '陳奕紳', '張妘恩', '張榆京', '涂家瑜', '陳妍彤'}\n",
      "{'林言碩 ', '王翊銘 ', '卞詠玲 ', '方韋茜 ', '卞禹翔 ', '張博丞 ', '王繹福 ', '廖寄? ', '李承翰 ', '廖寄軸 ', '黃宥霖', '陳奕紳 ', '吳昱鋐 ', '方彥期 ', '蕭祖丞 ', '李承穎 ', '涂?豪', '涂家瑜 ', '陳宥丞 '}\n"
     ]
    }
   ],
   "source": [
    "print(c) #相對差級\n",
    "print(a)"
   ]
  },
  {
   "cell_type": "code",
   "execution_count": 7,
   "id": "6e22344b",
   "metadata": {},
   "outputs": [
    {
     "name": "stdout",
     "output_type": "stream",
     "text": [
      "{'名字'}\n"
     ]
    }
   ],
   "source": [
    "cone=set(cmp).difference(set(c))\n",
    "print(cone)"
   ]
  },
  {
   "cell_type": "code",
   "execution_count": 8,
   "id": "05c81e0e",
   "metadata": {},
   "outputs": [
    {
     "name": "stdout",
     "output_type": "stream",
     "text": [
      "{'人名'}\n"
     ]
    }
   ],
   "source": [
    "gone=set(g).difference(set(c))\n",
    "print(gone)"
   ]
  },
  {
   "cell_type": "code",
   "execution_count": 9,
   "id": "e00f3dc0",
   "metadata": {},
   "outputs": [
    {
     "name": "stdout",
     "output_type": "stream",
     "text": [
      "{'人名'}\n"
     ]
    }
   ],
   "source": [
    "j=set(gone).difference(set(cone))\n",
    "print(j)"
   ]
  },
  {
   "cell_type": "code",
   "execution_count": null,
   "id": "218fe69e",
   "metadata": {},
   "outputs": [],
   "source": []
  },
  {
   "cell_type": "code",
   "execution_count": null,
   "id": "968d73f4",
   "metadata": {},
   "outputs": [],
   "source": []
  },
  {
   "cell_type": "code",
   "execution_count": null,
   "id": "d38d4ac0",
   "metadata": {},
   "outputs": [],
   "source": []
  },
  {
   "cell_type": "code",
   "execution_count": null,
   "id": "963f10e7",
   "metadata": {},
   "outputs": [],
   "source": []
  }
 ],
 "metadata": {
  "kernelspec": {
   "display_name": "Python 3 (ipykernel)",
   "language": "python",
   "name": "python3"
  },
  "language_info": {
   "codemirror_mode": {
    "name": "ipython",
    "version": 3
   },
   "file_extension": ".py",
   "mimetype": "text/x-python",
   "name": "python",
   "nbconvert_exporter": "python",
   "pygments_lexer": "ipython3",
   "version": "3.9.7"
  }
 },
 "nbformat": 4,
 "nbformat_minor": 5
}
