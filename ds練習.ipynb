{
 "cells": [
  {
   "cell_type": "code",
   "execution_count": 34,
   "id": "19c68652",
   "metadata": {},
   "outputs": [
    {
     "name": "stdout",
     "output_type": "stream",
     "text": [
      "誰打針?乙\n",
      "2號區域\n"
     ]
    }
   ],
   "source": [
    "d = {'要打針的人': ['甲','乙','丙'],\n",
    "     '打針的位置': ['1號區域','2號區域','3號區域']}\n",
    "l = input('誰打針?')\n",
    "Location=0\n",
    "for w in d['要打針的人']:\n",
    "    if l==w:\n",
    "        print(d['打針的位置'][Location])\n",
    "    else:                           #找需顯示資料位置\n",
    "        Location=Location+1         \n",
    "    "
   ]
  },
  {
   "cell_type": "code",
   "execution_count": 33,
   "id": "6741b942",
   "metadata": {},
   "outputs": [
    {
     "data": {
      "text/plain": [
       "'甲'"
      ]
     },
     "execution_count": 33,
     "metadata": {},
     "output_type": "execute_result"
    }
   ],
   "source": [
    "l"
   ]
  },
  {
   "cell_type": "code",
   "execution_count": null,
   "id": "5f88ed3f",
   "metadata": {},
   "outputs": [],
   "source": []
  }
 ],
 "metadata": {
  "kernelspec": {
   "display_name": "Python 3 (ipykernel)",
   "language": "python",
   "name": "python3"
  },
  "language_info": {
   "codemirror_mode": {
    "name": "ipython",
    "version": 3
   },
   "file_extension": ".py",
   "mimetype": "text/x-python",
   "name": "python",
   "nbconvert_exporter": "python",
   "pygments_lexer": "ipython3",
   "version": "3.9.7"
  }
 },
 "nbformat": 4,
 "nbformat_minor": 5
}
