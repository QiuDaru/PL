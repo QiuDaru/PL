{
 "cells": [
  {
   "cell_type": "code",
   "execution_count": null,
   "id": "abcaf035",
   "metadata": {},
   "outputs": [],
   "source": [
    "import random\n",
    "\n",
    "class VirtualPet:\n",
    "    def __init__(self, name):\n",
    "        self.name = name\n",
    "        self.hunger = random.randint(0, 10)\n",
    "        self.happiness = random.randint(0, 10)\n",
    "        \n",
    "    def feed(self):\n",
    "        self.hunger -= 1\n",
    "        print(f\"{self.name} 吃飯了！飢餓度減少一點。\")\n",
    "        \n",
    "    def play(self):\n",
    "        self.happiness += 1\n",
    "        print(f\"{self.name} 玩得開心！幸福度增加一點。\")\n",
    "        \n",
    "    def status(self):\n",
    "        print(f\"{self.name} 目前的狀態：\")\n",
    "        print(f\"飢餓度：{self.hunger}\")\n",
    "        print(f\"幸福度：{self.happiness}\")\n",
    "\n",
    "def main():\n",
    "    pet_name = input(\"請給你的虛擬寵物一個名字：\")\n",
    "    pet = VirtualPet(pet_name)\n",
    "    \n",
    "    while True:\n",
    "        print(\"\\n選擇一個操作：\")\n",
    "        print(\"1. 餵食\")\n",
    "        print(\"2. 玩耍\")\n",
    "        print(\"3. 查看狀態\")\n",
    "        print(\"4. 離開\")\n",
    "        \n",
    "        choice = input(\"請輸入操作編號：\")\n",
    "        \n",
    "        if choice == \"1\":\n",
    "            pet.feed()\n",
    "        elif choice == \"2\":\n",
    "            pet.play()\n",
    "        elif choice == \"3\":\n",
    "            pet.status()\n",
    "        elif choice == \"4\":\n",
    "            print(f\"{pet.name} 離開了遊戲。\")\n",
    "            break\n",
    "        else:\n",
    "            print(\"無效的操作編號，請重新輸入。\")\n",
    "\n",
    "if __name__ == \"__main__\":\n",
    "    main()\n",
    "    "
   ]
  },
  {
   "cell_type": "code",
   "execution_count": null,
   "id": "f13b6367",
   "metadata": {},
   "outputs": [],
   "source": []
  }
 ],
 "metadata": {
  "kernelspec": {
   "display_name": "Python 3 (ipykernel)",
   "language": "python",
   "name": "python3"
  },
  "language_info": {
   "codemirror_mode": {
    "name": "ipython",
    "version": 3
   },
   "file_extension": ".py",
   "mimetype": "text/x-python",
   "name": "python",
   "nbconvert_exporter": "python",
   "pygments_lexer": "ipython3",
   "version": "3.9.7"
  }
 },
 "nbformat": 4,
 "nbformat_minor": 5
}
