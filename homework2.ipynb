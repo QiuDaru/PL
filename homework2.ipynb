{
 "cells": [
  {
   "cell_type": "code",
   "execution_count": 23,
   "id": "a4aa902f",
   "metadata": {},
   "outputs": [],
   "source": [
    "import json"
   ]
  },
  {
   "cell_type": "code",
   "execution_count": 24,
   "id": "14468ba2",
   "metadata": {},
   "outputs": [
    {
     "data": {
      "text/plain": [
       "dict"
      ]
     },
     "execution_count": 24,
     "metadata": {},
     "output_type": "execute_result"
    }
   ],
   "source": [
    "test = open('game.json',encoding=\"utf8\")\n",
    "Data = json.load(test)\n",
    "type(Data)"
   ]
  },
  {
   "cell_type": "code",
   "execution_count": 13,
   "id": "e64928f5",
   "metadata": {},
   "outputs": [
    {
     "data": {
      "text/plain": [
       "[{'name': 'Liu Bei', 'Gift _Lv8': 1, 'Gift _Lv9': 1, 'Gift _Lv10': 3},\n",
       " {'name': 'Sun Quan', 'Gift _Lv8': 1, 'Gift _Lv9': 4, 'Gift _Lv10': 2},\n",
       " {'name': 'Cao Cao', 'Gift _Lv8': 2, 'Gift _Lv9': 4, 'Gift _Lv10': 3}]"
      ]
     },
     "execution_count": 13,
     "metadata": {},
     "output_type": "execute_result"
    }
   ],
   "source": [
    "temp = Data.get('members')\n",
    "temp\n"
   ]
  },
  {
   "cell_type": "code",
   "execution_count": 14,
   "id": "b60ec699",
   "metadata": {},
   "outputs": [],
   "source": [
    "Inquire_name = 'Liu Bei'\n",
    "#改成Inquire_name = input(請問查詢哪位玩家?)\n",
    "#可以做成資料搜尋的樣子"
   ]
  },
  {
   "cell_type": "code",
   "execution_count": 15,
   "id": "1ec1698f",
   "metadata": {},
   "outputs": [
    {
     "name": "stdout",
     "output_type": "stream",
     "text": [
      "Liu Bei 有八級銅礦 1 個\n",
      "Liu Bei 有九級銅礦 1 個\n",
      "Liu Bei 有十級銅礦 3 個\n"
     ]
    }
   ],
   "source": [
    "for i in temp:\n",
    "    if Inquire_name  == i.get('name'):\n",
    "        print(Inquire_name , '有八級銅礦', i.get('Gift _Lv8'), '個')  \n",
    "        print(Inquire_name , '有九級銅礦', i.get('Gift _Lv9'), '個') \n",
    "        print(Inquire_name , '有十級銅礦', i.get('Gift _Lv10'), '個') "
   ]
  },
  {
   "cell_type": "code",
   "execution_count": 16,
   "id": "9dafc2ec",
   "metadata": {},
   "outputs": [
    {
     "data": {
      "text/plain": [
       "[3, 2, 3]"
      ]
     },
     "execution_count": 16,
     "metadata": {},
     "output_type": "execute_result"
    }
   ],
   "source": [
    "Gift_Lv8 = []\n",
    "for i in temp:\n",
    "    Gift_Lv8.append(i.get('Gift _Lv10'))\n",
    "Gift_Lv8"
   ]
  },
  {
   "cell_type": "code",
   "execution_count": 17,
   "id": "2d8a04a5",
   "metadata": {},
   "outputs": [],
   "source": [
    "Gift_Lv8_enumerate = enumerate(Gift_Lv8, start = 1)"
   ]
  },
  {
   "cell_type": "code",
   "execution_count": 18,
   "id": "12e2ad10",
   "metadata": {},
   "outputs": [],
   "source": [
    "#不懂reverse = True,跟Gift_Lv8_enumerate, key = lambda s: s[1]這句的s[1]\n",
    "Gift_Lv8_enumerate_sorted = sorted(Gift_Lv8_enumerate, key = lambda s: s[1], reverse = True)"
   ]
  },
  {
   "cell_type": "code",
   "execution_count": 19,
   "id": "029fe93f",
   "metadata": {},
   "outputs": [
    {
     "data": {
      "text/plain": [
       "[(1, 3), (3, 3), (2, 2)]"
      ]
     },
     "execution_count": 19,
     "metadata": {},
     "output_type": "execute_result"
    }
   ],
   "source": [
    "Gift_Lv8_enumerate_sorted"
   ]
  },
  {
   "cell_type": "code",
   "execution_count": 20,
   "id": "a2351757",
   "metadata": {},
   "outputs": [
    {
     "data": {
      "text/plain": [
       "1"
      ]
     },
     "execution_count": 20,
     "metadata": {},
     "output_type": "execute_result"
    }
   ],
   "source": [
    "#不懂[0][0]\n",
    "Gift_Lv8_enumerate_sorted [0][0]"
   ]
  },
  {
   "cell_type": "code",
   "execution_count": 21,
   "id": "92cfd6fc",
   "metadata": {},
   "outputs": [
    {
     "name": "stdout",
     "output_type": "stream",
     "text": [
      "Liu Bei 有 3 個10級銅礦\n",
      "Cao Cao 有 3 個10級銅礦\n",
      "Sun Quan 有 2 個10級銅礦\n"
     ]
    }
   ],
   "source": [
    "#不懂 j = i[0] - 1甚麼意思\n",
    "for i in Gift_Lv8_enumerate_sorted:\n",
    "    j = i[0] - 1\n",
    "    print(temp[j].get('name'), '有', temp[j].get('Gift _Lv10'), '個10級銅礦')"
   ]
  },
  {
   "cell_type": "code",
   "execution_count": null,
   "id": "953507e4",
   "metadata": {},
   "outputs": [],
   "source": []
  },
  {
   "cell_type": "code",
   "execution_count": null,
   "id": "72734dae",
   "metadata": {},
   "outputs": [],
   "source": []
  },
  {
   "cell_type": "code",
   "execution_count": null,
   "id": "75c6f2b8",
   "metadata": {},
   "outputs": [],
   "source": []
  },
  {
   "cell_type": "code",
   "execution_count": null,
   "id": "923734cc",
   "metadata": {},
   "outputs": [],
   "source": []
  }
 ],
 "metadata": {
  "kernelspec": {
   "display_name": "Python 3 (ipykernel)",
   "language": "python",
   "name": "python3"
  },
  "language_info": {
   "codemirror_mode": {
    "name": "ipython",
    "version": 3
   },
   "file_extension": ".py",
   "mimetype": "text/x-python",
   "name": "python",
   "nbconvert_exporter": "python",
   "pygments_lexer": "ipython3",
   "version": "3.9.7"
  }
 },
 "nbformat": 4,
 "nbformat_minor": 5
}
