{
 "cells": [
  {
   "cell_type": "code",
   "execution_count": 19,
   "id": "6c49981b",
   "metadata": {},
   "outputs": [
    {
     "name": "stdout",
     "output_type": "stream",
     "text": [
      "有鹽、水和南瓜，你要用哪些材料煮湯 (請輸入操作編號 1.鹽 2.水 3.南瓜 4.不放材料):1\n",
      "鹽的數量: 1\n",
      "水的數量: 0\n",
      "南瓜的數量: 0\n",
      "有鹽、水和南瓜，你要用哪些材料煮湯 (請輸入操作編號 1.鹽 2.水 3.南瓜 4.不放材料):1\n",
      "鹽的數量: 2\n",
      "水的數量: 0\n",
      "南瓜的數量: 0\n",
      "有鹽、水和南瓜，你要用哪些材料煮湯 (請輸入操作編號 1.鹽 2.水 3.南瓜 4.不放材料):1\n",
      "鹽的數量: 3\n",
      "水的數量: 0\n",
      "南瓜的數量: 0\n",
      "有鹽、水和南瓜，你要用哪些材料煮湯 (請輸入操作編號 1.鹽 2.水 3.南瓜 4.不放材料):4\n",
      "好鹹的湯\n"
     ]
    }
   ],
   "source": [
    "water = 0\n",
    "pumpkin = 0\n",
    "salt = 0\n",
    "\n",
    "while True:\n",
    "    try:\n",
    "        x = input(\"有鹽、水和南瓜，你要用哪些材料煮湯 (請輸入操作編號 1.鹽 2.水 3.南瓜 4.不放材料):\")\n",
    "\n",
    "        if x == '1':\n",
    "            salt = salt + 1\n",
    "        elif x == '2':\n",
    "            water = water + 1\n",
    "        elif x == '3':\n",
    "            pumpkin = pumpkin + 1\n",
    "        elif x == '4':\n",
    "            break\n",
    "        else:\n",
    "            print(\"無效的選項，請輸入 '鹽'、'水' 或 '南瓜'\")\n",
    "\n",
    "        print(\"鹽的數量:\", salt)\n",
    "        print(\"水的數量:\", water)\n",
    "        print(\"南瓜的數量:\", pumpkin)\n",
    "\n",
    "    except KeyboardInterrupt:\n",
    "        print(\"用戶終止了程式。是否要繼續煮湯？\")\n",
    "        choice = input(\"請輸入 'yes' 或 'no':\")\n",
    "        if choice.lower() != 'yes':\n",
    "            break\n",
    "if salt>pumpkin+water:\n",
    "    print(\"好鹹的湯\")\n",
    "elif water>salt+pumpkin:\n",
    "    print(\"沒味道的湯\")\n",
    "elif pumpkin>water+salt:\n",
    "    print(\"好濃的湯\")\n",
    "elif pumpkin == water == salt:\n",
    "    print(\"好喝的湯\")\n",
    "else:\n",
    "    print(\"不錯的湯\")"
   ]
  },
  {
   "cell_type": "markdown",
   "id": "d94a6cb6",
   "metadata": {},
   "source": [
    "# "
   ]
  },
  {
   "cell_type": "code",
   "execution_count": null,
   "id": "ddb65cb0",
   "metadata": {},
   "outputs": [],
   "source": []
  }
 ],
 "metadata": {
  "kernelspec": {
   "display_name": "Python 3 (ipykernel)",
   "language": "python",
   "name": "python3"
  },
  "language_info": {
   "codemirror_mode": {
    "name": "ipython",
    "version": 3
   },
   "file_extension": ".py",
   "mimetype": "text/x-python",
   "name": "python",
   "nbconvert_exporter": "python",
   "pygments_lexer": "ipython3",
   "version": "3.9.7"
  }
 },
 "nbformat": 4,
 "nbformat_minor": 5
}
