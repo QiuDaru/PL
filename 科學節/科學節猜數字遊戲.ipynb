{
 "cells": [
  {
   "cell_type": "code",
   "execution_count": null,
   "id": "4cc1fe69",
   "metadata": {},
   "outputs": [
    {
     "name": "stdout",
     "output_type": "stream",
     "text": [
      "歡迎參加猜數字遊戲！我們已經選好了一個1到100之間的數字。\n",
      "請猜一個數字：aw\n",
      "請輸入有效的數字。\n",
      "請猜一個數字：50\n",
      "太大了，再猜小一點。\n",
      "請猜一個數字：25\n",
      "太大了，再猜小一點。\n"
     ]
    }
   ],
   "source": [
    "import random\n",
    "\n",
    "def guess_number_game():\n",
    "    target_number = random.randint(1, 100)\n",
    "    print(\"歡迎參加猜數字遊戲！我們已經選好了一個1到100之間的數字。\")\n",
    "\n",
    "    for guess_count in range(1, 9):\n",
    "        guess = input(\"請猜一個數字：\")\n",
    "\n",
    "        if not guess.isdigit():\n",
    "            print(\"請輸入有效的數字。\")\n",
    "            continue\n",
    "\n",
    "        guess = int(guess)\n",
    "\n",
    "        if guess == target_number:\n",
    "            print(f\"恭喜你，猜對了！答案是 {target_number}。你總共猜了 {guess_count} 次。\")\n",
    "            guess_count = 0\n",
    "            break\n",
    "        elif guess < target_number:\n",
    "            print(\"太小了，再猜大一點。\")\n",
    "        else:\n",
    "            print(\"太大了，再猜小一點。\")\n",
    "\n",
    "    if guess_count == 8:\n",
    "        print(f\"很遺憾，你已經猜了8次，遊戲結束。答案是 {target_number}。\")\n",
    "\n",
    "guess_number_game()"
   ]
  },
  {
   "cell_type": "code",
   "execution_count": null,
   "id": "8f57cebd",
   "metadata": {},
   "outputs": [],
   "source": []
  }
 ],
 "metadata": {
  "kernelspec": {
   "display_name": "Python 3 (ipykernel)",
   "language": "python",
   "name": "python3"
  },
  "language_info": {
   "codemirror_mode": {
    "name": "ipython",
    "version": 3
   },
   "file_extension": ".py",
   "mimetype": "text/x-python",
   "name": "python",
   "nbconvert_exporter": "python",
   "pygments_lexer": "ipython3",
   "version": "3.9.7"
  }
 },
 "nbformat": 4,
 "nbformat_minor": 5
}
