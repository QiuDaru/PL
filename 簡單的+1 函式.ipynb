{
 "cells": [
  {
   "cell_type": "code",
   "execution_count": 13,
   "id": "a567e5a6",
   "metadata": {
    "scrolled": true
   },
   "outputs": [
    {
     "name": "stdout",
     "output_type": "stream",
     "text": [
      "321\n",
      "輸出: 322\n"
     ]
    }
   ],
   "source": [
    "def math(x):  #定義函式'math' 他有一個參數 'x'\n",
    "    a = x + 1 # a=x+1 剛輸入的值x要在+1就=a 也就是a的值是要等於x+1\n",
    "    print(\"輸出:\",a) #顯示a值\n",
    "\n",
    "x = int(input()) #詢問 x 的值\n",
    "math(x) #呼叫函式\n",
    "\n",
    "    \n",
    "    \n",
    "    \n"
   ]
  },
  {
   "cell_type": "code",
   "execution_count": null,
   "id": "2ffde51d",
   "metadata": {},
   "outputs": [],
   "source": []
  },
  {
   "cell_type": "code",
   "execution_count": null,
   "id": "7f817bcc",
   "metadata": {},
   "outputs": [],
   "source": []
  }
 ],
 "metadata": {
  "kernelspec": {
   "display_name": "Python 3 (ipykernel)",
   "language": "python",
   "name": "python3"
  },
  "language_info": {
   "codemirror_mode": {
    "name": "ipython",
    "version": 3
   },
   "file_extension": ".py",
   "mimetype": "text/x-python",
   "name": "python",
   "nbconvert_exporter": "python",
   "pygments_lexer": "ipython3",
   "version": "3.9.7"
  }
 },
 "nbformat": 4,
 "nbformat_minor": 5
}
