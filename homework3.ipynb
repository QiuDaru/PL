{
 "cells": [
  {
   "cell_type": "code",
   "execution_count": 40,
   "id": "a9d19288",
   "metadata": {
    "scrolled": true
   },
   "outputs": [
    {
     "name": "stdout",
     "output_type": "stream",
     "text": [
      "[新聞] 強哥不覺被抵制 「我沒在乎好萊塢」\n",
      "[好雷] 我的2年妓女生涯 \n",
      "[新聞] 彭于晏暴瘦16公斤詮釋殺人嫌犯 \n",
      "[新聞] 《超人力霸王最終章》主角6月會台粉\n",
      "[好雷] 片場風暴 (world war 3)\n",
      "Re: [請益] 星際效應飛機為何能撐住黑洞\n",
      "[新聞] 福伯感性領坎城終身成就獎 華人導演王兵\n",
      "[新聞] 影帝西恩潘主演坎城影展競賽片《亡命救護\n",
      "[討論] 印地5 BBC坎城評論:印地一個軟弱失勢老人\n",
      "Fw: [閒聊] 新·日本英雄宇宙... 合體了？？\n",
      "[請益] 玩命關頭X的兩個疑問(有雷)\n",
      "[討論] 漫威結合動作與特效的作法\n",
      "[公告] 電影板板規 2022/12/5\n",
      "[公告] 魚人小美票房賭盤\n"
     ]
    }
   ],
   "source": [
    "import urllib.request as req #原版\n",
    "url=\"https://www.ptt.cc/bbs/movie/index.html\"\n",
    "request=req.Request(url, headers={\n",
    "    \"User-Agent\":\"Mozilla/5.0 (Windows NT 10.0; Win64; x64) AppleWebKit/537.36 (KHTML, like Gecko) Chrome/112.0.0.0 Safari/537.36\"\n",
    "})\n",
    "with req.urlopen(request) as response:\n",
    "    data=response.read().decode('utf-8')\n",
    "import bs4\n",
    "root=bs4.BeautifulSoup(data, \"html.parser\")\n",
    "titles=root.find_all(\"div\",class_=\"title\")\n",
    "for title in titles:\n",
    "    if title.a != None:\n",
    "        print(title.a.string)\n"
   ]
  },
  {
   "cell_type": "code",
   "execution_count": 41,
   "id": "b242d872",
   "metadata": {},
   "outputs": [
    {
     "name": "stdout",
     "output_type": "stream",
     "text": [
      "[新聞] 強哥不覺被抵制 「我沒在乎好萊塢」\n"
     ]
    }
   ],
   "source": [
    "import urllib.request as req#低配版\n",
    "url=\"https://www.ptt.cc/bbs/movie/index.html\"\n",
    "request=req.Request(url, headers={\n",
    "    \"User-Agent\":\"Mozilla/5.0 (Windows NT 10.0; Win64; x64) AppleWebKit/537.36 (KHTML, like Gecko) Chrome/112.0.0.0 Safari/537.36\"\n",
    "})\n",
    "with req.urlopen(request) as response:\n",
    "    data=response.read().decode('utf-8')\n",
    "import bs4\n",
    "root=bs4.BeautifulSoup(data, \"html.parser\")\n",
    "titles=root.find(\"div\",class_=\"title\")\n",
    "print(titles.a.string)"
   ]
  },
  {
   "cell_type": "code",
   "execution_count": 42,
   "id": "2d9ad01f",
   "metadata": {
    "scrolled": true
   },
   "outputs": [
    {
     "name": "stdout",
     "output_type": "stream",
     "text": [
      "\n",
      "\n",
      "\n",
      "\n"
     ]
    }
   ],
   "source": []
  },
  {
   "cell_type": "code",
   "execution_count": null,
   "id": "38aa0f33",
   "metadata": {},
   "outputs": [],
   "source": []
  }
 ],
 "metadata": {
  "kernelspec": {
   "display_name": "Python 3 (ipykernel)",
   "language": "python",
   "name": "python3"
  },
  "language_info": {
   "codemirror_mode": {
    "name": "ipython",
    "version": 3
   },
   "file_extension": ".py",
   "mimetype": "text/x-python",
   "name": "python",
   "nbconvert_exporter": "python",
   "pygments_lexer": "ipython3",
   "version": "3.9.7"
  }
 },
 "nbformat": 4,
 "nbformat_minor": 5
}
