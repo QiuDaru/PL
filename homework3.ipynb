{
 "cells": [
  {
   "cell_type": "code",
   "execution_count": 1,
   "id": "a9d19288",
   "metadata": {
    "scrolled": true
   },
   "outputs": [
    {
     "name": "stdout",
     "output_type": "stream",
     "text": [
      "[新聞] 威爾普爾特被誤認為玩具總動員的阿薛\n",
      "Re: [討論] 變形金剛：萬獸崛起，最新預告\n",
      "[新聞] 坎城影展》凱特布蘭琪自嘲首次參加不是咖\n",
      "[討論] 老馬丁《花月殺手》大好評\n",
      "[討論] 難道只有我覺得玩命10看完很爽嗎？\n",
      "[新聞]《玩命關頭 X》：欠缺品管的無止盡「膨脹\n",
      "[好雷] 深海尋寶（Into The Blue）艾芭與沃克\n",
      "[負雷] 玩命關頭-一顆球滾到出戲\n",
      "[  超好雷] 關鍵指令\n",
      "[問片] 一部有青少年的恐怖懸疑片\n",
      "[公告] 電影板板規 2022/12/5\n",
      "[公告] 魚人小美票房賭盤\n"
     ]
    }
   ],
   "source": [
    "import urllib.request as req #原版\n",
    "url=\"https://www.ptt.cc/bbs/movie/index.html\"\n",
    "request=req.Request(url, headers={\n",
    "    \"User-Agent\":\"Mozilla/5.0 (Windows NT 10.0; Win64; x64) AppleWebKit/537.36 (KHTML, like Gecko) Chrome/112.0.0.0 Safari/537.36\"\n",
    "})\n",
    "with req.urlopen(request) as response:\n",
    "    data=response.read().decode('utf-8')\n",
    "import bs4\n",
    "root=bs4.BeautifulSoup(data, \"html.parser\")\n",
    "titles=root.find_all(\"div\",class_=\"title\")\n",
    "for title in titles:\n",
    "    if title.a != None:\n",
    "        print(title.a.string)\n"
   ]
  },
  {
   "cell_type": "code",
   "execution_count": 2,
   "id": "b242d872",
   "metadata": {},
   "outputs": [
    {
     "name": "stdout",
     "output_type": "stream",
     "text": [
      "[新聞] 威爾普爾特被誤認為玩具總動員的阿薛\n"
     ]
    }
   ],
   "source": [
    "import urllib.request as req#低配版\n",
    "url=\"https://www.ptt.cc/bbs/movie/index.html\"\n",
    "request=req.Request(url, headers={\n",
    "    \"User-Agent\":\"Mozilla/5.0 (Windows NT 10.0; Win64; x64) AppleWebKit/537.36 (KHTML, like Gecko) Chrome/112.0.0.0 Safari/537.36\"\n",
    "})\n",
    "with req.urlopen(request) as response:\n",
    "    data=response.read().decode('utf-8')\n",
    "import bs4\n",
    "root=bs4.BeautifulSoup(data, \"html.parser\")\n",
    "titles=root.find(\"div\",class_=\"title\")\n",
    "print(titles.a.string)"
   ]
  },
  {
   "cell_type": "code",
   "execution_count": null,
   "id": "2d9ad01f",
   "metadata": {
    "scrolled": true
   },
   "outputs": [],
   "source": []
  },
  {
   "cell_type": "code",
   "execution_count": null,
   "id": "38aa0f33",
   "metadata": {},
   "outputs": [],
   "source": []
  }
 ],
 "metadata": {
  "kernelspec": {
   "display_name": "Python 3 (ipykernel)",
   "language": "python",
   "name": "python3"
  },
  "language_info": {
   "codemirror_mode": {
    "name": "ipython",
    "version": 3
   },
   "file_extension": ".py",
   "mimetype": "text/x-python",
   "name": "python",
   "nbconvert_exporter": "python",
   "pygments_lexer": "ipython3",
   "version": "3.9.7"
  }
 },
 "nbformat": 4,
 "nbformat_minor": 5
}
