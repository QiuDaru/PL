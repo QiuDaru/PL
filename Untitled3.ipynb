{
 "cells": [
  {
   "cell_type": "code",
   "execution_count": 1,
   "id": "4fbce8fb",
   "metadata": {},
   "outputs": [
    {
     "name": "stdout",
     "output_type": "stream",
     "text": [
      "出入一個字串:DW\n",
      "hello, DW\n"
     ]
    }
   ],
   "source": [
    "x=input('出入一個字串:')\n",
    "print('hello, '+ x)"
   ]
  },
  {
   "cell_type": "code",
   "execution_count": 3,
   "id": "f16597d7",
   "metadata": {},
   "outputs": [
    {
     "name": "stdout",
     "output_type": "stream",
     "text": [
      "出入一個字串:DD\n",
      "hello,DD\n"
     ]
    }
   ],
   "source": [
    "x=input('出入一個字串:')\n",
    "print('hello,'+x)\n"
   ]
  },
  {
   "cell_type": "code",
   "execution_count": 4,
   "id": "81fc6873",
   "metadata": {},
   "outputs": [
    {
     "name": "stdout",
     "output_type": "stream",
     "text": [
      "FE\n",
      "hello,FE\n"
     ]
    }
   ],
   "source": [
    "x=input()\n",
    "print('hello,'+x)\n"
   ]
  },
  {
   "cell_type": "code",
   "execution_count": null,
   "id": "d13b9c10",
   "metadata": {},
   "outputs": [],
   "source": []
  }
 ],
 "metadata": {
  "kernelspec": {
   "display_name": "Python 3 (ipykernel)",
   "language": "python",
   "name": "python3"
  },
  "language_info": {
   "codemirror_mode": {
    "name": "ipython",
    "version": 3
   },
   "file_extension": ".py",
   "mimetype": "text/x-python",
   "name": "python",
   "nbconvert_exporter": "python",
   "pygments_lexer": "ipython3",
   "version": "3.9.7"
  }
 },
 "nbformat": 4,
 "nbformat_minor": 5
}
