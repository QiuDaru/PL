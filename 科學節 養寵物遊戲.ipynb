{
 "cells": [
  {
   "cell_type": "code",
   "execution_count": null,
   "id": "abcaf035",
   "metadata": {},
   "outputs": [
    {
     "name": "stdout",
     "output_type": "stream",
     "text": [
      "請給你的虛擬寵物一個名字：qiu\n",
      "請輸入寵物的顏色（紅色、黃色、藍色）：洪\n",
      "請選擇紅色、黃色或藍色作為寵物的顏色。\n",
      "請輸入寵物的顏色（紅色、黃色、藍色）：紅色\n",
      "\n",
      "選擇一個操作：\n",
      "1. 餵食\n",
      "2. 玩耍\n",
      "3. 查看狀態\n",
      "4. 離開\n",
      "請輸入操作編號：1\n",
      "\u001b[93mqiu 吃飯了！飢餓度減少一點。\u001b[0m\n"
     ]
    },
    {
     "data": {
      "image/png": "[encoded data removed]",
      "text/plain": [
       "<PIL.Image.Image image mode=RGB size=939x622 at 0x1FDAF0D85B0>"
      ]
     },
     "metadata": {},
     "output_type": "display_data"
    }
   ],
   "source": [
    "import random\n",
    "import time\n",
    "from PIL import Image\n",
    "\n",
    "class VirtualPet:\n",
    "    def __init__(self, name, pet_color):\n",
    "        self.name = name\n",
    "        self.hunger = random.randint(0, 10)\n",
    "        self.happiness = random.randint(0, 10)\n",
    "        self.color = pet_color\n",
    "        self.pet_image = self.virtual_pet_color()\n",
    "\n",
    "    def virtual_pet_color(self):\n",
    "        user_color = None\n",
    "        if self.color == '紅色':\n",
    "            user_color = (255, 0, 0)\n",
    "        elif self.color == '黃色':\n",
    "            user_color = (255, 255, 0)\n",
    "        elif self.color == '藍色':\n",
    "            user_color = (0, 0, 255)\n",
    "        else:\n",
    "            print(\"請選擇紅色、黃色或藍色作為寵物的顏色。\")\n",
    "            user_color = (255, 255, 255)  \n",
    "\n",
    "        image = Image.open(\"吃東C.png\")\n",
    "        image = image.convert(\"RGB\")\n",
    "        pixels = image.load()\n",
    "        width, height = image.size\n",
    "            \n",
    "        for x in range(width):\n",
    "            for y in range(height):\n",
    "                r, g, b = pixels[x, y]\n",
    "                if (r, g, b) == (255, 242, 0):\n",
    "                    pixels[x, y] = user_color\n",
    "\n",
    "        return image\n",
    "\n",
    "    def feed(self):\n",
    "        self.hunger -= 1\n",
    "        print(\"\\033[93m\" + f\"{self.name} 吃飯了！飢餓度減少一點。\" + \"\\033[0m\")\n",
    "        display(self.pet_image)\n",
    "        time.sleep(1)\n",
    "\n",
    "    def play(self):\n",
    "        self.happiness += 1\n",
    "        print(\"\\033[93m\" + f\"{self.name} 玩得開心！幸福度增加一點。\" + \"\\033[0m\")\n",
    "\n",
    "    def status(self):\n",
    "        print(f\"{self.name} 目前的狀態：\")\n",
    "        print(f\"飢餓度：{self.hunger}\")\n",
    "        print(f\"幸福度：{self.happiness}\")\n",
    "\n",
    "def main():\n",
    "    pet_name = input(\"請給你的虛擬寵物一個名字：\")\n",
    "    \n",
    "    while True:\n",
    "        pet_color = input(\"請輸入寵物的顏色（紅色、黃色、藍色）：\")\n",
    "        if pet_color in ['紅色', '黃色', '藍色']:\n",
    "            break\n",
    "        else:\n",
    "            print(\"請選擇紅色、黃色或藍色作為寵物的顏色。\")\n",
    "\n",
    "    pet = VirtualPet(pet_name, pet_color)\n",
    "\n",
    "    while True:\n",
    "        time.sleep(1)\n",
    "        print(\"\\n選擇一個操作：\")\n",
    "        print(\"1. 餵食\")\n",
    "        print(\"2. 玩耍\")\n",
    "        print(\"3. 查看狀態\")\n",
    "        print(\"4. 離開\")\n",
    "\n",
    "        choice = input(\"請輸入操作編號：\")\n",
    "\n",
    "        if choice == \"1\":\n",
    "            pet.feed()\n",
    "        elif choice == \"2\":\n",
    "            pet.play()\n",
    "        elif choice == \"3\":\n",
    "            pet.status()\n",
    "        elif choice == \"4\":\n",
    "            print(f\"{pet.name} 離開了遊戲。\")\n",
    "            break\n",
    "        else:\n",
    "            print(\"無效的操作編號，請重新輸入。\")\n",
    "\n",
    "if __name__ == \"__main__\":\n",
    "    main()\n",
    "\n",
    "    "
   ]
  },
  {
   "cell_type": "markdown",
   "id": "43d98ed0",
   "metadata": {},
   "source": [
    "#### !pip install Pillow\n"
   ]
  },
  {
   "cell_type": "code",
   "execution_count": null,
   "id": "f233e08b",
   "metadata": {},
   "outputs": [],
   "source": []
  }
 ],
 "metadata": {
  "kernelspec": {
   "display_name": "Python 3 (ipykernel)",
   "language": "python",
   "name": "python3"
  },
  "language_info": {
   "codemirror_mode": {
    "name": "ipython",
    "version": 3
   },
   "file_extension": ".py",
   "mimetype": "text/x-python",
   "name": "python",
   "nbconvert_exporter": "python",
   "pygments_lexer": "ipython3",
   "version": "3.9.7"
  }
 },
 "nbformat": 4,
 "nbformat_minor": 5
}
