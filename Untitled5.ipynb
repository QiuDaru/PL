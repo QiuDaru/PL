{
 "cells": [
  {
   "cell_type": "code",
   "execution_count": 10,
   "id": "b6efe24a",
   "metadata": {},
   "outputs": [
    {
     "name": "stdout",
     "output_type": "stream",
     "text": [
      "第一個數:1\n",
      "第二個數:2\n",
      "兩數之和: 3\n"
     ]
    }
   ],
   "source": [
    "def math(x, y):\n",
    "    a = x + y\n",
    "    return a\n",
    "\n",
    "# 讀取兩個數字\n",
    "num1 = int(input('第一個數:'))\n",
    "num2 = int(input('第二個數:'))\n",
    "\n",
    "# 呼叫函式並印出結果\n",
    "result = math(num1, num2)\n",
    "print(f\"兩數之和:\",result)\n"
   ]
  },
  {
   "cell_type": "code",
   "execution_count": null,
   "id": "0cab5be2",
   "metadata": {},
   "outputs": [],
   "source": []
  }
 ],
 "metadata": {
  "kernelspec": {
   "display_name": "Python 3 (ipykernel)",
   "language": "python",
   "name": "python3"
  },
  "language_info": {
   "codemirror_mode": {
    "name": "ipython",
    "version": 3
   },
   "file_extension": ".py",
   "mimetype": "text/x-python",
   "name": "python",
   "nbconvert_exporter": "python",
   "pygments_lexer": "ipython3",
   "version": "3.9.7"
  }
 },
 "nbformat": 4,
 "nbformat_minor": 5
}
