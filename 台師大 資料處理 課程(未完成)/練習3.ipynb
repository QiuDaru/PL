{
 "cells": [
  {
   "cell_type": "code",
   "execution_count": null,
   "id": "d489c959",
   "metadata": {},
   "outputs": [],
   "source": [
    "事件=input(\"請輸入案件:\")\n",
    "\n",
    "if 事件 ==\"被告闖紅燈\":\n",
    "    print(\"被告賠100%\")\n",
    "elif 事件 ==\"原告闖紅燈\":\n",
    "    print(\"原告多被告少\")\n",
    "elif 事件t==\"被告原告皆闖紅燈\":\n",
    "    print(\"原告50%被告50%\")\n",
    "else:\n",
    "    print(\"請填入有效訊息\")\n"
   ]
  },
  {
   "cell_type": "code",
   "execution_count": null,
   "id": "be6543c9",
   "metadata": {},
   "outputs": [],
   "source": []
  }
 ],
 "metadata": {
  "kernelspec": {
   "display_name": "Python 3 (ipykernel)",
   "language": "python",
   "name": "python3"
  },
  "language_info": {
   "codemirror_mode": {
    "name": "ipython",
    "version": 3
   },
   "file_extension": ".py",
   "mimetype": "text/x-python",
   "name": "python",
   "nbconvert_exporter": "python",
   "pygments_lexer": "ipython3",
   "version": "3.9.7"
  }
 },
 "nbformat": 4,
 "nbformat_minor": 5
}
